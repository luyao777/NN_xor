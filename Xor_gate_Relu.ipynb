{
 "cells": [
  {
   "cell_type": "code",
   "execution_count": 1,
   "metadata": {
    "collapsed": true
   },
   "outputs": [],
   "source": [
    "import numpy as np\n",
    "import matplotlib as mpl\n",
    "import matplotlib.pyplot as plt\n",
    "%matplotlib inline\n",
    "#生成数据\n",
    "X=[[0,0],[0,1],[1,0],[1,1]]\n",
    "Y=[[0],[1],[1],[0]]\n",
    "X=np.array(X).astype('int16')\n",
    "Y=np.array(Y).astype('int16')\n",
    "lr = 0.001"
   ]
  },
  {
   "cell_type": "code",
   "execution_count": 2,
   "metadata": {},
   "outputs": [
    {
     "name": "stdout",
     "output_type": "stream",
     "text": [
      "W1.shape (2, 2)\n",
      "W2.shape (1, 2)\n"
     ]
    }
   ],
   "source": [
    "#设置权重和偏执\n",
    "W1 = np.random.rand(2,2) * 0.01\n",
    "W2 = np.random.rand(1,2) * 0.01\n",
    "b1 = np.random.rand(2,1) * 0.01\n",
    "b2 = np.random.rand(1,1) * 0.01\n",
    "print(\"W1.shape\",W1.shape)\n",
    "print(\"W2.shape\",W2.shape)"
   ]
  },
  {
   "cell_type": "code",
   "execution_count": 3,
   "metadata": {
    "collapsed": true
   },
   "outputs": [],
   "source": [
    "def Relu(x):\n",
    "     return np.maximum(x, 0)\n",
    "def ratio(x):\n",
    "    c = np.maximum(x,0)\n",
    "    c[c>0] = 1\n",
    "    return c"
   ]
  },
  {
   "cell_type": "code",
   "execution_count": 4,
   "metadata": {
    "collapsed": true
   },
   "outputs": [],
   "source": [
    "def train(X,y):\n",
    "    global W1,W2,b1,b2\n",
    "    #print(X.shape)\n",
    "    #print(np.dot(W1,X).shape)\n",
    "    a = Relu(np.dot(W1,X)+b1)    \n",
    "   # print(\"a.shape\",a.shape)\n",
    "    y_hat = Relu(np.dot(W2,a)+b2)\n",
    "    \n",
    "    #print(\"a.shape\",a.shape)\n",
    "    #print(\"y_hat.shape\",y_hat.shape)\n",
    "    \n",
    "    error = np.fabs(y_hat - y)\n",
    "    dz2 = (y_hat - y) * ratio(y_hat)\n",
    "    dW2 = dz2 * a.T\n",
    "    db2 = dz2\n",
    "    dz1 = dz2 * W2.T * ratio(a)\n",
    "    db1 = dz1\n",
    "    dW1 = X * dz1.T\n",
    "    \n",
    "    \n",
    "    #print(\"dW2.shape\",dW2.shape)\n",
    "    #print(\"dW1.shape\",dW1.shape)\n",
    "    \n",
    "    W2 -= lr * dW2\n",
    "    W1 -= lr * dW1\n",
    "    b2 -= lr * db2\n",
    "    b1 -= lr * db1\n",
    "    \n",
    "    #print(\"Error: \",error)\n",
    "    return error"
   ]
  },
  {
   "cell_type": "code",
   "execution_count": 5,
   "metadata": {},
   "outputs": [
    {
     "name": "stdout",
     "output_type": "stream",
     "text": [
      "W1: [[ 0.00496479  0.00451683]\n",
      " [ 0.00103721  0.01251072]]\n",
      "W2: [[ 0.00454358  0.01620881]]\n",
      "b1: [[ 0.00266556]\n",
      " [ 0.01428657]]\n",
      "b2: [[ 0.49962432]]\n"
     ]
    }
   ],
   "source": [
    "f = open('data.csv','w',encoding='utf8')\n",
    "counter = 0\n",
    "for i in range(10000):\n",
    "    for j in range(4):\n",
    "        X_temp = np.resize(np.array(X[j].T),(2,1))\n",
    "        Y_temp = np.resize(np.array(Y[j]),(1,1))\n",
    "        er = train(X_temp,Y_temp)\n",
    "        \n",
    "        content = str(counter)+','+str(float(er))+'\\n'\n",
    "        #print(content)\n",
    "        f_a = f.write(content)\n",
    "        counter += 1\n",
    "f.close()        \n",
    "print(\"W1:\",W1)\n",
    "print(\"W2:\",W2)\n",
    "print(\"b1:\",b1)\n",
    "print(\"b2:\",b2)\n"
   ]
  },
  {
   "cell_type": "code",
   "execution_count": 6,
   "metadata": {},
   "outputs": [
    {
     "data": {
      "image/png": "[encoded data removed]",
      "text/plain": [
       "<matplotlib.figure.Figure at 0x1aa8f48c518>"
      ]
     },
     "metadata": {},
     "output_type": "display_data"
    }
   ],
   "source": [
    "from matplotlib import pyplot as plt\n",
    "from matplotlib import style\n",
    "import numpy as np\n",
    "\n",
    "style.use('ggplot')\n",
    "\n",
    "x,y = np.loadtxt('data.csv',\n",
    "                 unpack=True,\n",
    "                 delimiter = ',')\n",
    "\n",
    "plt.plot(x,y)\n",
    "plt.title('NN for Xor')\n",
    "plt.ylabel('Error')\n",
    "plt.xlabel('Iteration')\n",
    "\n",
    "plt.show()"
   ]
  }
 ],
 "metadata": {
  "kernelspec": {
   "display_name": "Python 3",
   "language": "python",
   "name": "python3"
  },
  "language_info": {
   "codemirror_mode": {
    "name": "ipython",
    "version": 3
   },
   "file_extension": ".py",
   "mimetype": "text/x-python",
   "name": "python",
   "nbconvert_exporter": "python",
   "pygments_lexer": "ipython3",
   "version": "3.6.1"
  }
 },
 "nbformat": 4,
 "nbformat_minor": 2
}
