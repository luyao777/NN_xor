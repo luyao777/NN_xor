{
 "cells": [
  {
   "cell_type": "code",
   "execution_count": 1,
   "metadata": {
    "collapsed": true
   },
   "outputs": [],
   "source": [
    "import numpy as np\n",
    "import matplotlib as mpl\n",
    "import matplotlib.pyplot as plt\n",
    "%matplotlib inline\n",
    "#生成数据\n",
    "X=[[0,0],[0,1],[1,0],[1,1]]\n",
    "Y=[[0],[1],[1],[0]]\n",
    "X=np.array(X).astype('int16')\n",
    "Y=np.array(Y).astype('int16')\n",
    "lr = 0.001"
   ]
  },
  {
   "cell_type": "code",
   "execution_count": 2,
   "metadata": {},
   "outputs": [
    {
     "data": {
      "text/plain": [
       "array([0, 0], dtype=int16)"
      ]
     },
     "execution_count": 2,
     "metadata": {},
     "output_type": "execute_result"
    }
   ],
   "source": [
    "X[0]"
   ]
  },
  {
   "cell_type": "code",
   "execution_count": 3,
   "metadata": {},
   "outputs": [
    {
     "name": "stdout",
     "output_type": "stream",
     "text": [
      "W1.shape (2, 2)\n",
      "W2.shape (1, 2)\n"
     ]
    }
   ],
   "source": [
    "#设置权重和偏执\n",
    "W1 = np.random.rand(2,2)\n",
    "W2 = np.random.rand(1,2)\n",
    "b1 = np.random.rand(2,1)\n",
    "b2 = np.random.rand(1,1)\n",
    "print(\"W1.shape\",W1.shape)\n",
    "print(\"W2.shape\",W2.shape)"
   ]
  },
  {
   "cell_type": "code",
   "execution_count": 4,
   "metadata": {
    "collapsed": true
   },
   "outputs": [],
   "source": [
    "def Relu(x):\n",
    "    if x.any()<=0:\n",
    "        return 0\n",
    "    return x\n",
    "def sigmoid(x):\n",
    "    return 1/(1+np.exp(-x))"
   ]
  },
  {
   "cell_type": "code",
   "execution_count": 5,
   "metadata": {
    "collapsed": true
   },
   "outputs": [],
   "source": [
    "def train(X,y):\n",
    "    global W1,W2,b1,b2\n",
    "    a = Relu(np.dot(W1,X)+b1)    \n",
    "   # print(\"a.shape\",a.shape)\n",
    "    y_hat = Relu(np.dot(W2,a)+b2)\n",
    "    \n",
    "   # print(\"a.shape\",a.shape)\n",
    "    #print(\"y_hat.shape\",y_hat.shape)\n",
    "    \n",
    "    error = np.fabs(np.square(y_hat - y))\n",
    "    dW2 = lr * np.fabs(y_hat - y) * a\n",
    "    dW1 = lr * np.fabs(y_hat - y) * np.dot(W2,X)\n",
    "    \n",
    "    #print(\"dW2.shape\",dW2.shape)\n",
    "   # print(\"dW1.shape\",dW1.shape)\n",
    "    \n",
    "    W2 -= dW2.T\n",
    "    W1 -= dW1.T\n",
    "    print(\"Error: \",error)\n",
    "    return error"
   ]
  },
  {
   "cell_type": "code",
   "execution_count": 6,
   "metadata": {},
   "outputs": [
    {
     "ename": "ValueError",
     "evalue": "non-broadcastable output operand with shape (1,2) doesn't match the broadcast shape (2,2)",
     "output_type": "error",
     "traceback": [
      "\u001b[1;31m---------------------------------------------------------------------------\u001b[0m",
      "\u001b[1;31mValueError\u001b[0m                                Traceback (most recent call last)",
      "\u001b[1;32m<ipython-input-6-c4391490029f>\u001b[0m in \u001b[0;36m<module>\u001b[1;34m()\u001b[0m\n\u001b[0;32m      1\u001b[0m \u001b[1;32mfor\u001b[0m \u001b[0mi\u001b[0m \u001b[1;32min\u001b[0m \u001b[0mrange\u001b[0m\u001b[1;33m(\u001b[0m\u001b[1;36m100\u001b[0m\u001b[1;33m)\u001b[0m\u001b[1;33m:\u001b[0m\u001b[1;33m\u001b[0m\u001b[0m\n\u001b[0;32m      2\u001b[0m     \u001b[1;32mfor\u001b[0m \u001b[0mj\u001b[0m \u001b[1;32min\u001b[0m \u001b[0mrange\u001b[0m\u001b[1;33m(\u001b[0m\u001b[1;36m4\u001b[0m\u001b[1;33m)\u001b[0m\u001b[1;33m:\u001b[0m\u001b[1;33m\u001b[0m\u001b[0m\n\u001b[1;32m----> 3\u001b[1;33m         \u001b[0mtrain\u001b[0m\u001b[1;33m(\u001b[0m\u001b[0mX\u001b[0m\u001b[1;33m[\u001b[0m\u001b[0mj\u001b[0m\u001b[1;33m]\u001b[0m\u001b[1;33m.\u001b[0m\u001b[0mT\u001b[0m\u001b[1;33m,\u001b[0m\u001b[0mY\u001b[0m\u001b[1;33m[\u001b[0m\u001b[0mj\u001b[0m\u001b[1;33m]\u001b[0m\u001b[1;33m)\u001b[0m\u001b[1;33m\u001b[0m\u001b[0m\n\u001b[0m",
      "\u001b[1;32m<ipython-input-5-65baff7ba801>\u001b[0m in \u001b[0;36mtrain\u001b[1;34m(X, y)\u001b[0m\n\u001b[0;32m     15\u001b[0m    \u001b[1;31m# print(\"dW1.shape\",dW1.shape)\u001b[0m\u001b[1;33m\u001b[0m\u001b[1;33m\u001b[0m\u001b[0m\n\u001b[0;32m     16\u001b[0m \u001b[1;33m\u001b[0m\u001b[0m\n\u001b[1;32m---> 17\u001b[1;33m     \u001b[0mW2\u001b[0m \u001b[1;33m-=\u001b[0m \u001b[0mdW2\u001b[0m\u001b[1;33m.\u001b[0m\u001b[0mT\u001b[0m\u001b[1;33m\u001b[0m\u001b[0m\n\u001b[0m\u001b[0;32m     18\u001b[0m     \u001b[0mW1\u001b[0m \u001b[1;33m-=\u001b[0m \u001b[0mdW1\u001b[0m\u001b[1;33m.\u001b[0m\u001b[0mT\u001b[0m\u001b[1;33m\u001b[0m\u001b[0m\n\u001b[0;32m     19\u001b[0m     \u001b[0mprint\u001b[0m\u001b[1;33m(\u001b[0m\u001b[1;34m\"Error: \"\u001b[0m\u001b[1;33m,\u001b[0m\u001b[0merror\u001b[0m\u001b[1;33m)\u001b[0m\u001b[1;33m\u001b[0m\u001b[0m\n",
      "\u001b[1;31mValueError\u001b[0m: non-broadcastable output operand with shape (1,2) doesn't match the broadcast shape (2,2)"
     ]
    }
   ],
   "source": [
    "for i in range(100):\n",
    "    for j in range(4):\n",
    "        train(X[j].T,Y[j])\n"
   ]
  },
  {
   "cell_type": "code",
   "execution_count": null,
   "metadata": {},
   "outputs": [],
   "source": [
    "\"\"\"\n",
    "listt = []\n",
    "k = 0\n",
    "mpl.rcParams['xtick.labelsize'] = 24\n",
    "mpl.rcParams['ytick.labelsize'] = 24\n",
    "# figure()指定图表名称\n",
    "plt.figure('model')\n",
    "x = np.arange(0,1000)\n",
    "y = np.arange(0,1000)\n",
    "for i in range(250):\n",
    "    for j in range(4):\n",
    "        y[k] = train(X[j].T,Y[j],W1.T,W2.T,b1,b2)\n",
    "        k+=1\n",
    "# 一定要加上这句才能让画好的图显示在屏幕上\n",
    "plt.plot(x,y)\n",
    "plt.show() \n",
    "\"\"\"\n",
    "\n",
    "\n",
    "\n",
    "\n"
   ]
  },
  {
   "cell_type": "code",
   "execution_count": null,
   "metadata": {
    "collapsed": true
   },
   "outputs": [],
   "source": []
  },
  {
   "cell_type": "code",
   "execution_count": null,
   "metadata": {
    "collapsed": true
   },
   "outputs": [],
   "source": []
  }
 ],
 "metadata": {
  "kernelspec": {
   "display_name": "Python 3",
   "language": "python",
   "name": "python3"
  },
  "language_info": {
   "codemirror_mode": {
    "name": "ipython",
    "version": 3
   },
   "file_extension": ".py",
   "mimetype": "text/x-python",
   "name": "python",
   "nbconvert_exporter": "python",
   "pygments_lexer": "ipython3",
   "version": "3.6.1"
  }
 },
 "nbformat": 4,
 "nbformat_minor": 2
}
